{
  "cells": [
    {
      "cell_type": "markdown",
      "metadata": {
        "id": "view-in-github",
        "colab_type": "text"
      },
      "source": [
        "<a href=\"https://colab.research.google.com/github/Slivak/News/blob/main/Untitled15.ipynb\" target=\"_parent\"><img src=\"https://colab.research.google.com/assets/colab-badge.svg\" alt=\"Open In Colab\"/></a>"
      ]
    },
    {
      "cell_type": "markdown",
      "source": [
        "# **УРААА КАЕАШКЕ 2.0**\n",
        "**Нейронная сеть по распознаванию фейковых новостей с использованием функции активации sigmoid и оптиизатор adam.**\n",
        "# ✨**Точность ~ 98.6%**✨"
      ],
      "metadata": {
        "id": "ziMNrUbz4uyy"
      }
    },
    {
      "cell_type": "code",
      "execution_count": 1,
      "metadata": {
        "id": "cn5XigP7OrUD"
      },
      "outputs": [],
      "source": [
        "import pandas as pd"
      ]
    },
    {
      "cell_type": "code",
      "execution_count": null,
      "metadata": {
        "id": "5YgiMou-PweB"
      },
      "outputs": [],
      "source": [
        "df = pd.read_csv('/content/drive/MyDrive/data (1).csv')\n",
        "#[True, False, True, True, True, False, True, False, False, False, True, False, True, False, False, False, False, False, False, False, False, False, True, True, True, False, True, True, True, False, False, True, True, True, False, True, True, True, False, False, False, True, False, False, True, True, True, False, False, True, True, True, False, True, True, True, True, True, False, False, False, True, False, False, False, False, False, True, False, False, True, True, False, True, False, False, False, False, False, False, False, False, True, False, False, True, True, False, True, False, True, False, False, True, False, True, False, False, False, False]\n",
        "\n",
        "df.head(100)"
      ]
    },
    {
      "cell_type": "code",
      "execution_count": null,
      "metadata": {
        "id": "uQG9gS9ARHCB"
      },
      "outputs": [],
      "source": [
        "x = df[['information']]\n",
        "y = df['label']\n",
        "x"
      ]
    },
    {
      "cell_type": "code",
      "execution_count": 4,
      "metadata": {
        "id": "6cDlTz3fRJQp"
      },
      "outputs": [],
      "source": [
        "messages = x.copy()\n",
        "#Индексируем от 0 до n все наши n элементов\n",
        "messages.reset_index(inplace=True)\n",
        "target = y.copy()"
      ]
    },
    {
      "cell_type": "code",
      "execution_count": null,
      "metadata": {
        "id": "-kzBxCncRXQ9"
      },
      "outputs": [],
      "source": [
        "messages"
      ]
    },
    {
      "cell_type": "code",
      "execution_count": 6,
      "metadata": {
        "id": "xGCiPcDVRhjc"
      },
      "outputs": [],
      "source": [
        "#Стемминг - грубый способ получения основы слова\n",
        "import nltk # Natural Language Toolkit\n",
        "from nltk.stem import PorterStemmer"
      ]
    },
    {
      "cell_type": "code",
      "execution_count": 7,
      "metadata": {
        "id": "_BU7FGhzRoS3"
      },
      "outputs": [],
      "source": [
        "#Объект класса PorterStemmer\n",
        "ps = PorterStemmer()"
      ]
    },
    {
      "cell_type": "code",
      "execution_count": null,
      "metadata": {
        "id": "rWUHKr1PRtej"
      },
      "outputs": [],
      "source": [
        "print(ps.stem(\"Downloading\"))\n",
        "print(ps.stem(\"Fake\"))"
      ]
    },
    {
      "cell_type": "code",
      "execution_count": null,
      "metadata": {
        "id": "864egjAwRyKg"
      },
      "outputs": [],
      "source": [
        "nltk.download(\"stopwords\")\n",
        "from nltk.corpus import stopwords\n",
        "import re\n",
        "#tqdm - взуализатор итераций прогресс баром\n",
        "from tqdm import tqdm"
      ]
    },
    {
      "cell_type": "code",
      "execution_count": null,
      "metadata": {
        "id": "03LzQ5wvSQwv"
      },
      "outputs": [],
      "source": [
        "sw = stopwords.words('english')\n",
        "ps = PorterStemmer()\n",
        "sw"
      ]
    },
    {
      "cell_type": "code",
      "execution_count": null,
      "metadata": {
        "id": "lPwYDDwTSwHA"
      },
      "outputs": [],
      "source": [
        "corpus = []\n",
        "fake = []\n",
        "not_fake = []\n",
        "#проходка по всем элементам датафрейма messages\n",
        "for i in tqdm(range(0, len(messages))):\n",
        "  review = messages['information'][i]\n",
        "  #Удаляет всё кроме строчных и заглавных букв от a до z\n",
        "  review = re.sub('[^a-zA-Z]', ' ', review)\n",
        "  review = review.lower()\n",
        "  review = review.split()\n",
        "  \"\"\"\n",
        "  #прогоняем через стопслова и через стеммер\n",
        "  for i in range(len(review)):\n",
        "    #условие стопслова\n",
        "    if review[i] not in sw:\n",
        "      #стеммер\n",
        "      review[i] = ps.stem(review[i])\n",
        "\n",
        "  \"\"\"\n",
        "  #Тоже самое в 1 строку\n",
        "  review = [ps.stem(word) for word in review if review not in sw]\n",
        "  review = ' '.join(review)\n",
        "  if target[i] == 0:\n",
        "    not_fake.append(review)\n",
        "  else:\n",
        "    fake.append(review)\n",
        "  corpus.append(review)"
      ]
    },
    {
      "cell_type": "code",
      "execution_count": 12,
      "metadata": {
        "id": "7YGteSOxZZES"
      },
      "outputs": [],
      "source": [
        "from wordcloud import WordCloud\n",
        "import matplotlib.pyplot as plt"
      ]
    },
    {
      "cell_type": "code",
      "execution_count": null,
      "metadata": {
        "id": "bf9UiuY9ZaQ4"
      },
      "outputs": [],
      "source": [
        "text_not_fake = ' '.join(not_fake)\n",
        "wordcloud = WordCloud(width=1920, height=1080).generate(text_not_fake)\n",
        "fig = plt.figure(figsize = (10, 10))\n",
        "plt.imshow(wordcloud)"
      ]
    },
    {
      "cell_type": "code",
      "execution_count": null,
      "metadata": {
        "id": "lKsylLTedbC8"
      },
      "outputs": [],
      "source": [
        "text_fake = ' '.join(fake)\n",
        "wordcloud = WordCloud(width=1920, height=1080).generate(text_fake)\n",
        "fig = plt.figure(figsize = (10, 10))\n",
        "plt.imshow(wordcloud)"
      ]
    },
    {
      "cell_type": "code",
      "source": [
        "import numpy as np\n",
        "\n",
        "#класс для представления слова в цифр\n",
        "from tensorflow.keras.preprocessing.text import one_hot\n",
        "#слой, дополняющий предложения нулями для одинакого размера\n",
        "from tensorflow.keras.preprocessing.sequence import pad_sequences"
      ],
      "metadata": {
        "id": "0MMj8QeJHAEj"
      },
      "execution_count": 29,
      "outputs": []
    },
    {
      "cell_type": "code",
      "source": [
        "voc_size = 20000"
      ],
      "metadata": {
        "id": "89cgRuceHtqE"
      },
      "execution_count": 17,
      "outputs": []
    },
    {
      "cell_type": "code",
      "source": [
        "#Применение one_hot для всех слов \n",
        "one_hot_repr = [one_hot(words, voc_size) for words in corpus]"
      ],
      "metadata": {
        "id": "rHiYrcW_Hwus"
      },
      "execution_count": 22,
      "outputs": []
    },
    {
      "cell_type": "code",
      "source": [
        "#Получение длинны самого длинного слова\n",
        "sent_length = len(max(one_hot_repr, key=len))\n",
        "#дополнения нулями недостающих слов\n",
        "embaded_docs = pad_sequences(one_hot_repr, padding='pre', maxlen = sent_length)\n",
        "\n",
        "print(embaded_docs)"
      ],
      "metadata": {
        "id": "5G6-NBHkIaeF"
      },
      "execution_count": null,
      "outputs": []
    },
    {
      "cell_type": "code",
      "source": [
        "#Подготовленные данные\n",
        "x_final = np.array(embaded_docs)\n",
        "y_final = np.array(y) # 0 1 - наш лейбл из начала"
      ],
      "metadata": {
        "id": "sFxN5IKKJlWU"
      },
      "execution_count": 41,
      "outputs": []
    },
    {
      "cell_type": "code",
      "source": [
        "#Класс для разделения наших данных на тренировучную и обучающую выборки\n",
        "from sklearn.model_selection import train_test_split\n",
        "import tensorflow as tf\n",
        "\n",
        "from tensorflow.keras.layers import Embedding\n",
        "from tensorflow.keras.models import Sequential\n",
        "#LSTM - обладает более долговременной памятью для запоминания длинных последовательностей\n",
        "from tensorflow.keras.layers import LSTM\n",
        "from tensorflow.keras.layers import Dense\n",
        "from tensorflow.keras.layers import Dropout\n",
        "from tensorflow.keras.layers import Bidirectional"
      ],
      "metadata": {
        "id": "TcnycZtAKWLb"
      },
      "execution_count": 39,
      "outputs": []
    },
    {
      "cell_type": "code",
      "source": [
        "x_train, x_test, y_train, y_test = train_test_split(x_final, y_final, stratify=y_final, test_size = 0.25, random_state = 42)\n"
      ],
      "metadata": {
        "id": "Eu4VNJ4WLbky"
      },
      "execution_count": 60,
      "outputs": []
    },
    {
      "cell_type": "code",
      "source": [
        "embedding_vector_features = 30\n",
        "#Последовательность слоёв\n",
        "model = Sequential()\n",
        "#Embedding - первый слой\n",
        "model.add(Embedding(voc_size, embedding_vector_features, input_length=sent_length))\n",
        "#Отбрасывание 50%\n",
        "model.add(Dropout(0.5))\n",
        "model.add(LSTM(100))\n",
        "model.add(Dropout(0.3))\n",
        "#Слой активации с ФА сигмоид\n",
        "model.add(Dense(1, activation='sigmoid'))"
      ],
      "metadata": {
        "id": "x4f057yUM6oM"
      },
      "execution_count": 61,
      "outputs": []
    },
    {
      "cell_type": "code",
      "source": [
        "#описание модели\n",
        "model.summary()"
      ],
      "metadata": {
        "colab": {
          "base_uri": "https://localhost:8080/"
        },
        "id": "T4g-mAnHP4WJ",
        "outputId": "c16e555e-abbe-4add-ffd7-a9fd451ac3f9"
      },
      "execution_count": 62,
      "outputs": [
        {
          "output_type": "stream",
          "name": "stdout",
          "text": [
            "Model: \"sequential_6\"\n",
            "_________________________________________________________________\n",
            " Layer (type)                Output Shape              Param #   \n",
            "=================================================================\n",
            " embedding_5 (Embedding)     (None, 72, 30)            600000    \n",
            "                                                                 \n",
            " dropout_4 (Dropout)         (None, 72, 30)            0         \n",
            "                                                                 \n",
            " lstm_1 (LSTM)               (None, 100)               52400     \n",
            "                                                                 \n",
            " dropout_5 (Dropout)         (None, 100)               0         \n",
            "                                                                 \n",
            " dense_1 (Dense)             (None, 1)                 101       \n",
            "                                                                 \n",
            "=================================================================\n",
            "Total params: 652,501\n",
            "Trainable params: 652,501\n",
            "Non-trainable params: 0\n",
            "_________________________________________________________________\n"
          ]
        }
      ]
    },
    {
      "cell_type": "code",
      "source": [
        "#SGD - стохастический градиентный спуск\n",
        "model.compile(optimizer='adam', loss='mse', metrics=['accuracy'])"
      ],
      "metadata": {
        "id": "hNEpIbleRqY3"
      },
      "execution_count": 67,
      "outputs": []
    },
    {
      "cell_type": "code",
      "source": [
        "history = model.fit(x_train, y_train,validation_data=(x_test, y_test), batch_size=10, epochs = 3)"
      ],
      "metadata": {
        "colab": {
          "base_uri": "https://localhost:8080/"
        },
        "id": "7gA0ZowYSQw8",
        "outputId": "9721fd8f-8d19-41d6-ccea-aeb8e1a14d26"
      },
      "execution_count": 69,
      "outputs": [
        {
          "output_type": "stream",
          "name": "stdout",
          "text": [
            "Epoch 1/3\n",
            "1560/1560 [==============================] - 82s 53ms/step - loss: 0.0018 - accuracy: 0.9981 - val_loss: 0.0134 - val_accuracy: 0.9842\n",
            "Epoch 2/3\n",
            "1560/1560 [==============================] - 84s 54ms/step - loss: 0.0016 - accuracy: 0.9984 - val_loss: 0.0140 - val_accuracy: 0.9835\n",
            "Epoch 3/3\n",
            "1560/1560 [==============================] - 81s 52ms/step - loss: 0.0015 - accuracy: 0.9985 - val_loss: 0.0128 - val_accuracy: 0.9850\n"
          ]
        }
      ]
    },
    {
      "cell_type": "code",
      "source": [
        "results = model.evaluate(x_test, y_test, batch_size=10)\n",
        "print(results)"
      ],
      "metadata": {
        "colab": {
          "base_uri": "https://localhost:8080/"
        },
        "id": "XnAMgcKwriKj",
        "outputId": "e388040f-d5f5-4745-9e83-a4c26e90510e"
      },
      "execution_count": 70,
      "outputs": [
        {
          "output_type": "stream",
          "name": "stdout",
          "text": [
            "520/520 [==============================] - 7s 12ms/step - loss: 0.0128 - accuracy: 0.9850\n",
            "[0.012819626368582249, 0.9850000143051147]\n"
          ]
        }
      ]
    },
    {
      "cell_type": "code",
      "source": [
        "predicts = model.predict(x_test[0:100])\n",
        "o = []\n",
        "for i in range(len(predicts)): o.append(0)\n",
        "\n",
        "for i in range(len(predicts)):\n",
        "  if int(round(predicts[i][0])) == 0:\n",
        "    o[i] = True\n",
        "  else:\n",
        "    o[i] = False\n",
        "print(o)"
      ],
      "metadata": {
        "colab": {
          "base_uri": "https://localhost:8080/"
        },
        "id": "AOOkB8lRsGt5",
        "outputId": "36de09b3-11a1-448b-9a56-ba122c7d5811"
      },
      "execution_count": 96,
      "outputs": [
        {
          "output_type": "stream",
          "name": "stdout",
          "text": [
            "4/4 [==============================] - 0s 14ms/step\n",
            "[False, True, False, False, False, True, False, True, True, True, False, True, False, True, True, True, True, True, True, True, True, True, False, False, False, True, False, False, False, True, True, False, False, False, True, False, False, False, True, True, True, False, True, True, False, False, False, True, True, False, False, False, True, False, False, False, False, False, True, True, True, False, True, True, True, True, True, False, True, True, False, False, True, False, True, True, True, True, True, True, True, True, False, True, True, False, False, True, False, True, False, True, True, False, True, False, True, True, True, True]\n"
          ]
        }
      ]
    },
    {
      "cell_type": "markdown",
      "source": [
        "# **💢 ВИДЕОДОКИ С КОДОМ 💢**\n",
        "# **D:\\Документации\\ИИ новостей**"
      ],
      "metadata": {
        "id": "LeEs6DnC6pOn"
      }
    },
    {
      "cell_type": "markdown",
      "source": [
        "![InIiQfwPPpY.jpg](data:image/jpeg;base64,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)"
      ],
      "metadata": {
        "id": "sfq8rrzI5j7u"
      }
    }
  ],
  "metadata": {
    "colab": {
      "provenance": [],
      "mount_file_id": "1xWgyRIe-Lb43p8_6QBihunVa1Rs7nw3e",
      "authorship_tag": "ABX9TyPMeAG9ZeD6sCT+oGx3RCk9",
      "include_colab_link": true
    },
    "kernelspec": {
      "display_name": "Python 3",
      "name": "python3"
    },
    "language_info": {
      "name": "python"
    }
  },
  "nbformat": 4,
  "nbformat_minor": 0
}